{
  "nbformat": 4,
  "nbformat_minor": 0,
  "metadata": {
    "colab": {
      "provenance": []
    },
    "kernelspec": {
      "name": "python3",
      "display_name": "Python 3"
    },
    "language_info": {
      "name": "python"
    }
  },
  "cells": [
    {
      "cell_type": "code",
      "execution_count": 1,
      "metadata": {
        "colab": {
          "base_uri": "https://localhost:8080/"
        },
        "id": "QeB1wPLUkCYc",
        "outputId": "35f6d88a-90cd-49b4-f2ec-78fe48cac8db"
      },
      "outputs": [
        {
          "output_type": "stream",
          "name": "stdout",
          "text": [
            "Score of runner up 8\n"
          ]
        }
      ],
      "source": [
        "s=[9,7,8,6,7,9,6]\n",
        "s1=set(s)\n",
        "s=list(s1)\n",
        "s.sort(reverse=True)\n",
        "print(\"Score of runner up\",s[1])"
      ]
    },
    {
      "cell_type": "code",
      "source": [
        "q={2,3,4,12,8,6,7}\n",
        "w={9,7,1,6,3,5,2}"
      ],
      "metadata": {
        "id": "J7h1IFhTkFrp"
      },
      "execution_count": 8,
      "outputs": []
    },
    {
      "cell_type": "code",
      "source": [
        "if q.intersection(w):\n",
        "  print(q.intersection(w))\n",
        "else:\n",
        "  q.union(w)"
      ],
      "metadata": {
        "colab": {
          "base_uri": "https://localhost:8080/"
        },
        "id": "c0Jk21skliqP",
        "outputId": "91c0af69-d112-40ba-ea53-607510e6c218"
      },
      "execution_count": 12,
      "outputs": [
        {
          "output_type": "stream",
          "name": "stdout",
          "text": [
            "{2, 3, 6, 7}\n"
          ]
        }
      ]
    },
    {
      "cell_type": "code",
      "source": [
        "D={'John' :[25,32,43],'Peter':[87,55,96],'Ram':[58,55,43],'Meena':[63,79,85]}"
      ],
      "metadata": {
        "id": "Vp3FSncMns5m"
      },
      "execution_count": null,
      "outputs": []
    },
    {
      "cell_type": "code",
      "source": [
        "c=input(\"Enter the name:\")\n",
        "if c=='John':\n",
        "  x=int(input(\"Enter the new score:\"))\n",
        "  y=int(input(\"Enter the new score:\"))\n",
        "  z=int(input(\"Enter the new score:\"))\n",
        "  D['John']=[x,y,z]\n",
        "  print(D)\n",
        "elif c=='Peter':\n",
        "  x=int(input(\"Enter the new score:\"))\n",
        "  y=int(input(\"Enter the new score:\"))\n",
        "  z=int(input(\"Enter the new score:\"))\n",
        "  D['Peter']=[x,y,z]\n",
        "  print(D)\n",
        "elif c=='Ram':\n",
        "  x=int(input(\"Enter the new score:\"))\n",
        "  y=int(input(\"Enter the new score:\"))\n",
        "  z=int(input(\"Enter the new score:\"))\n",
        "  D['Ram']=[x,y,z]\n",
        "  print(D)\n",
        "elif c=='Meena':\n",
        "  x=int(input(\"Enter the new score:\"))\n",
        "  y=int(input(\"Enter the new score:\"))\n",
        "  z=int(input(\"Enter the new score:\"))\n",
        "  D['Meena']=[x,y,z]\n",
        "  print(D)\n",
        "else:\n",
        "  print(\"Name not found\")\n",
        "\n"
      ],
      "metadata": {
        "colab": {
          "base_uri": "https://localhost:8080/"
        },
        "id": "ou7KN_Pdn8kK",
        "outputId": "5c5e6779-5ef5-4b23-f8d2-afb344eaa017"
      },
      "execution_count": 27,
      "outputs": [
        {
          "output_type": "stream",
          "name": "stdout",
          "text": [
            "Enter the name:Meena\n",
            "Enter the new score:45\n",
            "Enter the new score:56\n",
            "Enter the new score:54\n",
            "{'John': [45, 60, 78], 'Peter': [87, 55, 96], 'Ram': [58, 55, 43], 'Meena': [45, 56, 54]}\n"
          ]
        }
      ]
    },
    {
      "cell_type": "code",
      "source": [
        "n=input(\"Enter the name to be updated:\")\n",
        "if n in D:\n",
        "  D[n]=[88,77,99]\n",
        "  print(D)\n",
        "else:\n",
        "  print(\"Name not found\")"
      ],
      "metadata": {
        "colab": {
          "base_uri": "https://localhost:8080/"
        },
        "id": "dED3jtiVs-1J",
        "outputId": "132c3795-f868-4945-fbd2-dab363d097f9"
      },
      "execution_count": 32,
      "outputs": [
        {
          "output_type": "stream",
          "name": "stdout",
          "text": [
            "Enter the name to be updated:Ram\n",
            "{'John': [88, 77, 99], 'Peter': [87, 55, 96], 'Ram': [88, 77, 99], 'Meena': [45, 56, 54]}\n"
          ]
        }
      ]
    },
    {
      "cell_type": "code",
      "source": [
        "s=input(\"Enter a string:\")\n",
        "print(s[::2])"
      ],
      "metadata": {
        "colab": {
          "base_uri": "https://localhost:8080/"
        },
        "id": "v3tPa1SqqLQC",
        "outputId": "fa0463cf-3f82-4840-dbb0-d0211aece9d6"
      },
      "execution_count": 29,
      "outputs": [
        {
          "output_type": "stream",
          "name": "stdout",
          "text": [
            "Enter a string:Abhinav\n",
            "Ahnv\n"
          ]
        }
      ]
    },
    {
      "cell_type": "code",
      "source": [
        "def old(a,b,c):\n",
        "  if a>b and a>c:\n",
        "    return a\n",
        "  elif b>c and b>a:\n",
        "    return b\n",
        "  else:\n",
        "    return c"
      ],
      "metadata": {
        "id": "LIyhOe3aqiUj"
      },
      "execution_count": 21,
      "outputs": []
    },
    {
      "cell_type": "code",
      "source": [
        "def young(a,b,c):\n",
        "  if a<b and a<c:\n",
        "    return a\n",
        "  elif b<c and b<a:\n",
        "    return b\n",
        "  else:\n",
        "    return c"
      ],
      "metadata": {
        "id": "hABovDglqxNO"
      },
      "execution_count": 25,
      "outputs": []
    },
    {
      "cell_type": "code",
      "source": [
        "a=int(input(\"Enter age of first person:\"))\n",
        "b=int(input(\"Enter age of second person:\"))\n",
        "c=int(input(\"Enter age of third person:\"))\n",
        "print(\"Age of oldest person is \",old(a,b,c))\n",
        "print(\"Age of youngest person is \",young(a,b,c))"
      ],
      "metadata": {
        "colab": {
          "base_uri": "https://localhost:8080/"
        },
        "id": "EJUbtJk8rEcq",
        "outputId": "5d110541-214a-41a6-bf2b-8a56ed903f13"
      },
      "execution_count": 26,
      "outputs": [
        {
          "output_type": "stream",
          "name": "stdout",
          "text": [
            "Enter age of first person:12\n",
            "Enter age of second person:45\n",
            "Enter age of third person:34\n",
            "Age of oldest person is  45\n",
            "Age of youngest person is  12\n"
          ]
        }
      ]
    }
  ]
}